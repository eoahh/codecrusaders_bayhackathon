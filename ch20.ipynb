{
 "cells": [
  {
   "cell_type": "code",
   "execution_count": 3,
   "id": "715a5742-3470-468a-963d-b0494783c9b6",
   "metadata": {
    "tags": []
   },
   "outputs": [
    {
     "name": "stderr",
     "output_type": "stream",
     "text": [
      "2024-10-24 19:13:43,073 - INFO - Epoch [1/2], Loss: 1.8064, Time: 0.01 sec\n",
      "2024-10-24 19:13:43,084 - INFO - Epoch [2/2], Loss: 1.7584, Time: 0.01 sec\n"
     ]
    }
   ],
   "source": [
    "import torch\n",
    "import torch.nn as nn\n",
    "import torch.optim as optim\n",
    "from torch.utils.data import DataLoader, TensorDataset\n",
    "import time\n",
    "import logging\n",
    "\n",
    "logging.basicConfig(level=logging.INFO, format='%(asctime)s - %(levelname)s - %(message)s')\n",
    "\n",
    "class SimpleNet(nn.Module):\n",
    "    def __init__(self, input_size, hidden_size, output_size):\n",
    "        super(SimpleNet, self).__init__()\n",
    "        self.fc1 = nn.Linear(input_size, hidden_size)\n",
    "        self.relu = nn.ReLU()\n",
    "        self.fc2 = nn.Linear(hidden_size, output_size)\n",
    "    \n",
    "    def forward(self, x):\n",
    "        x = self.fc1(x)\n",
    "        x = self.relu(x)\n",
    "        x = self.fc2(x)\n",
    "        return x\n",
    "\n",
    "class CustomLoss(nn.Module):\n",
    "    def __init__(self):\n",
    "        super(CustomLoss, self).__init__()\n",
    "    \n",
    "    def forward(self, predictions, targets):\n",
    "        mse_loss = torch.mean((predictions - targets) ** 2)\n",
    "        abs_loss = torch.mean(torch.abs(predictions - targets))\n",
    "        return mse_loss + abs_loss\n",
    "\n",
    "def generate_dummy_data(num_samples, input_size, output_size):\n",
    "    X = torch.randn(num_samples, input_size)\n",
    "    y = torch.randn(num_samples, output_size)\n",
    "    return X, y\n",
    "\n",
    "input_size = 10\n",
    "hidden_size = 20\n",
    "output_size = 1\n",
    "num_samples = 100\n",
    "\n",
    "X, y = generate_dummy_data(num_samples, input_size, output_size)\n",
    "train_dataset = TensorDataset(X, y)\n",
    "train_loader = DataLoader(train_dataset, batch_size=16, shuffle=True)\n",
    "\n",
    "model = SimpleNet(input_size, hidden_size, output_size)\n",
    "criterion = CustomLoss()  # Custom loss function\n",
    "optimizer = optim.Adam(model.parameters(), lr=0.001)\n",
    "\n",
    "def train_model(model, train_loader, criterion, optimizer, num_epochs=2):\n",
    "    model.train()  \n",
    "    \n",
    "    for epoch in range(num_epochs):\n",
    "        epoch_loss = 0\n",
    "        start_time = time.time() \n",
    "        \n",
    "        for batch_X, batch_y in train_loader:\n",
    "            predictions = model(batch_X)\n",
    "            loss = criterion(predictions, batch_y)\n",
    "            \n",
    "            optimizer.zero_grad()\n",
    "            loss.backward()\n",
    "            optimizer.step()\n",
    "            \n",
    "            epoch_loss += loss.item()\n",
    "        \n",
    "        epoch_time = time.time() - start_time  \n",
    "        logging.info(f\"Epoch [{epoch+1}/{num_epochs}], Loss: {epoch_loss/len(train_loader):.4f}, Time: {epoch_time:.2f} sec\")\n",
    "\n",
    "train_model(model, train_loader, criterion, optimizer, num_epochs=2)\n"
   ]
  },
  {
   "cell_type": "code",
   "execution_count": null,
   "id": "6614cecc-8ce7-4373-ab6a-59bd88f3c261",
   "metadata": {},
   "outputs": [],
   "source": []
  }
 ],
 "metadata": {
  "environment": {
   "kernel": "conda-base-py",
   "name": "workbench-notebooks.m125",
   "type": "gcloud",
   "uri": "us-docker.pkg.dev/deeplearning-platform-release/gcr.io/workbench-notebooks:m125"
  },
  "kernelspec": {
   "display_name": "Python 3 (ipykernel) (Local)",
   "language": "python",
   "name": "conda-base-py"
  },
  "language_info": {
   "codemirror_mode": {
    "name": "ipython",
    "version": 3
   },
   "file_extension": ".py",
   "mimetype": "text/x-python",
   "name": "python",
   "nbconvert_exporter": "python",
   "pygments_lexer": "ipython3",
   "version": "3.10.15"
  }
 },
 "nbformat": 4,
 "nbformat_minor": 5
}

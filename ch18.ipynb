{
 "cells": [
  {
   "cell_type": "code",
   "execution_count": 1,
   "id": "ea92ef53-ebe5-4a0a-84f3-cd68520d30cd",
   "metadata": {
    "tags": []
   },
   "outputs": [],
   "source": [
    "!pip install monai[all] torch torchvision matplotlib"
   ]
  },
  {
   "cell_type": "code",
   "execution_count": 7,
   "id": "85276bee-c536-4960-a931-99d2540ab6f6",
   "metadata": {
    "tags": []
   },
   "outputs": [
    {
     "name": "stdout",
     "output_type": "stream",
     "text": [
      "Downloading http://host.robots.ox.ac.uk/pascal/VOC/voc2012/VOCtrainval_11-May-2012.tar to ./data/VOCtrainval_11-May-2012.tar\n"
     ]
    },
    {
     "name": "stderr",
     "output_type": "stream",
     "text": [
      "100%|██████████| 2.00G/2.00G [00:19<00:00, 101MB/s] \n"
     ]
    },
    {
     "name": "stdout",
     "output_type": "stream",
     "text": [
      "Extracting ./data/VOCtrainval_11-May-2012.tar to ./data\n",
      "Dataset size: 1464 images\n"
     ]
    }
   ],
   "source": [
    "import torch\n",
    "from torchvision import datasets, transforms\n",
    "from torch.utils.data import DataLoader\n",
    "\n",
    "transform = transforms.Compose([\n",
    "    transforms.Resize((128, 128)),  \n",
    "    transforms.ToTensor()           \n",
    "])\n",
    "\n",
    "voc_dataset = datasets.VOCSegmentation(\n",
    "    root=\"./data\",\n",
    "    year=\"2012\",\n",
    "    image_set=\"train\",\n",
    "    download=True,\n",
    "    transform=transform,\n",
    "    target_transform=transform\n",
    ")\n",
    "\n",
    "train_loader = DataLoader(voc_dataset, batch_size=16, shuffle=True)\n",
    "\n",
    "print(f\"Dataset size: {len(voc_dataset)} images\")\n"
   ]
  },
  {
   "cell_type": "code",
   "execution_count": 8,
   "id": "17e671d3-f0cd-434a-a30b-558a8a8cb4aa",
   "metadata": {
    "tags": []
   },
   "outputs": [],
   "source": [
    "import torch.nn as nn\n",
    "\n",
    "class UNet(nn.Module):\n",
    "    def __init__(self):\n",
    "        super(UNet, self).__init__()\n",
    "        self.encoder = nn.Sequential(\n",
    "            nn.Conv2d(3, 64, kernel_size=3, padding=1),\n",
    "            nn.ReLU(inplace=True),\n",
    "            nn.Conv2d(64, 128, kernel_size=3, padding=1),\n",
    "            nn.ReLU(inplace=True),\n",
    "            nn.MaxPool2d(2)\n",
    "        )\n",
    "        self.middle = nn.Sequential(\n",
    "            nn.Conv2d(128, 256, kernel_size=3, padding=1),\n",
    "            nn.ReLU(inplace=True),\n",
    "            nn.MaxPool2d(2)\n",
    "        )\n",
    "        self.decoder = nn.Sequential(\n",
    "            nn.Conv2d(256, 128, kernel_size=3, padding=1),\n",
    "            nn.ReLU(inplace=True),\n",
    "            nn.Conv2d(128, 64, kernel_size=3, padding=1),\n",
    "            nn.ReLU(inplace=True),\n",
    "            nn.ConvTranspose2d(64, 64, kernel_size=2, stride=2),\n",
    "            nn.ConvTranspose2d(64, 21, kernel_size=2, stride=2)  # 21 classes in Pascal VOC\n",
    "        )\n",
    "\n",
    "    def forward(self, x):\n",
    "        enc_out = self.encoder(x)\n",
    "        mid_out = self.middle(enc_out)\n",
    "        dec_out = self.decoder(mid_out)\n",
    "        return torch.sigmoid(dec_out)\n",
    "\n",
    "model = UNet().cuda()\n"
   ]
  },
  {
   "cell_type": "code",
   "execution_count": 9,
   "id": "fe0c5bcc-e75d-4fb5-b6dd-35b738938a31",
   "metadata": {
    "tags": []
   },
   "outputs": [],
   "source": [
    "from torch.optim import Adam\n",
    "from torch.nn import CrossEntropyLoss\n",
    "\n",
    "criterion = CrossEntropyLoss()\n",
    "optimizer = Adam(model.parameters(), lr=1e-3)\n"
   ]
  },
  {
   "cell_type": "code",
   "execution_count": 10,
   "id": "09e1bc8a-5aa4-49ae-b570-4d31771782b9",
   "metadata": {
    "tags": []
   },
   "outputs": [
    {
     "name": "stdout",
     "output_type": "stream",
     "text": [
      "Epoch [1/10], Loss: 2.2983\n",
      "Epoch [2/10], Loss: 2.2114\n",
      "Epoch [3/10], Loss: 2.1939\n",
      "Epoch [4/10], Loss: 2.1939\n",
      "Epoch [5/10], Loss: 2.1938\n",
      "Epoch [6/10], Loss: 2.1940\n",
      "Epoch [7/10], Loss: 2.1939\n",
      "Epoch [8/10], Loss: 2.1940\n",
      "Epoch [9/10], Loss: 2.1939\n",
      "Epoch [10/10], Loss: 2.1937\n"
     ]
    }
   ],
   "source": [
    "num_epochs = 10\n",
    "model.train()\n",
    "\n",
    "for epoch in range(num_epochs):\n",
    "    epoch_loss = 0\n",
    "    for batch in train_loader:\n",
    "        images = batch[0].cuda()\n",
    "        masks = batch[1].cuda()\n",
    "\n",
    "        optimizer.zero_grad()\n",
    "        outputs = model(images)\n",
    "\n",
    "        loss = criterion(outputs, masks.squeeze(1).long())  # Pascal VOC has multi-class labels\n",
    "\n",
    "        loss.backward()\n",
    "        optimizer.step()\n",
    "\n",
    "        epoch_loss += loss.item()\n",
    "\n",
    "    print(f\"Epoch [{epoch+1}/{num_epochs}], Loss: {epoch_loss/len(train_loader):.4f}\")\n"
   ]
  },
  {
   "cell_type": "code",
   "execution_count": null,
   "id": "991a51d1-dc5c-4d52-b335-c9bcc1ee5dfa",
   "metadata": {},
   "outputs": [],
   "source": []
  }
 ],
 "metadata": {
  "environment": {
   "kernel": "conda-base-py",
   "name": "workbench-notebooks.m125",
   "type": "gcloud",
   "uri": "us-docker.pkg.dev/deeplearning-platform-release/gcr.io/workbench-notebooks:m125"
  },
  "kernelspec": {
   "display_name": "Python 3 (ipykernel) (Local)",
   "language": "python",
   "name": "conda-base-py"
  },
  "language_info": {
   "codemirror_mode": {
    "name": "ipython",
    "version": 3
   },
   "file_extension": ".py",
   "mimetype": "text/x-python",
   "name": "python",
   "nbconvert_exporter": "python",
   "pygments_lexer": "ipython3",
   "version": "3.10.15"
  }
 },
 "nbformat": 4,
 "nbformat_minor": 5
}

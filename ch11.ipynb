{
 "cells": [
  {
   "cell_type": "code",
   "execution_count": 1,
   "id": "f06288cb-7582-4447-aa65-72f01844bded",
   "metadata": {},
   "outputs": [],
   "source": [
    "import time"
   ]
  },
  {
   "cell_type": "code",
   "execution_count": 2,
   "id": "d43c39cf-3e2e-46ec-b8de-6cd9f731d58b",
   "metadata": {},
   "outputs": [],
   "source": [
    "start_time = time.time()"
   ]
  },
  {
   "cell_type": "code",
   "execution_count": 3,
   "id": "a6ddd6c6-9851-483f-9395-7cca6a64f803",
   "metadata": {
    "tags": []
   },
   "outputs": [
    {
     "data": {
      "image/png": "[encoded data removed]",
      "text/plain": [
       "<Figure size 1000x500 with 1 Axes>"
      ]
     },
     "metadata": {},
     "output_type": "display_data"
    }
   ],
   "source": [
    "import torch\n",
    "from torchvision.utils import save_image, make_grid\n",
    "import os\n",
    "import matplotlib.pyplot as plt\n",
    "\n",
    "class Generator(torch.nn.Module):\n",
    "    def __init__(self):\n",
    "        super(Generator, self).__init__()\n",
    "        self.model = torch.nn.Sequential(\n",
    "            torch.nn.Linear(100, 256),\n",
    "            torch.nn.ReLU(),\n",
    "            torch.nn.Linear(256, 512),\n",
    "            torch.nn.ReLU(),\n",
    "            torch.nn.Linear(512, 784),\n",
    "            torch.nn.Tanh()\n",
    "        )\n",
    "\n",
    "    def forward(self, z):\n",
    "        return self.model(z).view(-1, 1, 28, 28)  # Reshape for a 28x28 image\n",
    "\n",
    "generator = Generator()\n",
    "\n",
    "def generate_and_save_images(num_images=50, save_path='./synthetic_images', show_images=5):\n",
    "    os.makedirs(save_path, exist_ok=True)\n",
    "    \n",
    "    # Generate random noise as input for the generator\n",
    "    z = torch.randn(num_images, 100)  # 100 is the input noise dimension\n",
    "    \n",
    "    # Generate synthetic images\n",
    "    with torch.no_grad():\n",
    "        synthetic_images = generator(z)\n",
    "    \n",
    "    # Save images\n",
    "    for i in range(num_images):\n",
    "        save_image(synthetic_images[i], os.path.join(save_path, f'image_{i+1}.png'))\n",
    "    \n",
    "    # Visualize some generated images\n",
    "    grid = make_grid(synthetic_images[:show_images], nrow=show_images, normalize=True)\n",
    "    plt.figure(figsize=(10, 5))\n",
    "    plt.imshow(grid.permute(1, 2, 0))  # Permute dimensions to display correctly\n",
    "    plt.axis('off')\n",
    "    plt.show()\n",
    "\n",
    "generate_and_save_images()\n"
   ]
  },
  {
   "cell_type": "code",
   "execution_count": 4,
   "id": "df69729d-d556-4580-bce7-a06cf6b4f313",
   "metadata": {
    "tags": []
   },
   "outputs": [
    {
     "name": "stdout",
     "output_type": "stream",
     "text": [
      "Time taken to generate and save 50 images: 2.78 seconds\n"
     ]
    }
   ],
   "source": [
    "# End time measurement\n",
    "end_time = time.time()\n",
    "total_time = end_time - start_time\n",
    "print(f'Time taken to generate and save 50 images: {total_time:.2f} seconds')"
   ]
  }
 ],
 "metadata": {
  "environment": {
   "kernel": "conda-base-py",
   "name": "workbench-notebooks.m125",
   "type": "gcloud",
   "uri": "us-docker.pkg.dev/deeplearning-platform-release/gcr.io/workbench-notebooks:m125"
  },
  "kernelspec": {
   "display_name": "Python 3 (ipykernel) (Local)",
   "language": "python",
   "name": "conda-base-py"
  },
  "language_info": {
   "codemirror_mode": {
    "name": "ipython",
    "version": 3
   },
   "file_extension": ".py",
   "mimetype": "text/x-python",
   "name": "python",
   "nbconvert_exporter": "python",
   "pygments_lexer": "ipython3",
   "version": "3.10.15"
  }
 },
 "nbformat": 4,
 "nbformat_minor": 5
}
